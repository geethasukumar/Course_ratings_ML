{
 "cells": [
  {
   "cell_type": "code",
   "execution_count": 1,
   "id": "44c49f78",
   "metadata": {},
   "outputs": [],
   "source": [
    "#import necessary libraries\n",
    "import pandas as pd\n",
    "import seaborn as sns\n",
    "import numpy as np\n",
    "import matplotlib.pyplot as plt\n",
    "import warnings\n",
    "warnings.filterwarnings(\"ignore\")"
   ]
  },
  {
   "cell_type": "code",
   "execution_count": 2,
   "id": "96a81767",
   "metadata": {},
   "outputs": [
    {
     "data": {
      "text/plain": [
       "(3680, 12)"
      ]
     },
     "execution_count": 2,
     "metadata": {},
     "output_type": "execute_result"
    }
   ],
   "source": [
    "#Load the dataset\n",
    "df = pd.read_csv('guvi-courses.csv')\n",
    "df.shape"
   ]
  },
  {
   "cell_type": "code",
   "execution_count": 3,
   "id": "0bf32529",
   "metadata": {},
   "outputs": [
    {
     "data": {
      "text/html": [
       "<div>\n",
       "<style scoped>\n",
       "    .dataframe tbody tr th:only-of-type {\n",
       "        vertical-align: middle;\n",
       "    }\n",
       "\n",
       "    .dataframe tbody tr th {\n",
       "        vertical-align: top;\n",
       "    }\n",
       "\n",
       "    .dataframe thead th {\n",
       "        text-align: right;\n",
       "    }\n",
       "</style>\n",
       "<table border=\"1\" class=\"dataframe\">\n",
       "  <thead>\n",
       "    <tr style=\"text-align: right;\">\n",
       "      <th></th>\n",
       "      <th>course_id</th>\n",
       "      <th>course_title</th>\n",
       "      <th>url</th>\n",
       "      <th>price</th>\n",
       "      <th>num_subscribers</th>\n",
       "      <th>num_reviews</th>\n",
       "      <th>num_lectures</th>\n",
       "      <th>level</th>\n",
       "      <th>Rating</th>\n",
       "      <th>content_duration</th>\n",
       "      <th>published_timestamp</th>\n",
       "      <th>subject</th>\n",
       "    </tr>\n",
       "  </thead>\n",
       "  <tbody>\n",
       "    <tr>\n",
       "      <th>0</th>\n",
       "      <td>41295.0</td>\n",
       "      <td>Learn HTML5 Programming From Scratch</td>\n",
       "      <td>https://www.udemy.com/learn-html5-programming-...</td>\n",
       "      <td>0.0</td>\n",
       "      <td>268923.0</td>\n",
       "      <td>8629.0</td>\n",
       "      <td>45.0</td>\n",
       "      <td>Beginner Level</td>\n",
       "      <td>0.82</td>\n",
       "      <td>10.5</td>\n",
       "      <td>2013-02-14T07:03:41Z</td>\n",
       "      <td>Subject: Web Development</td>\n",
       "    </tr>\n",
       "    <tr>\n",
       "      <th>1</th>\n",
       "      <td>59014.0</td>\n",
       "      <td>Coding for Entrepreneurs Basic</td>\n",
       "      <td>https://www.udemy.com/coding-for-entrepreneurs...</td>\n",
       "      <td>0.0</td>\n",
       "      <td>161029.0</td>\n",
       "      <td>279.0</td>\n",
       "      <td>27.0</td>\n",
       "      <td>Expert Level</td>\n",
       "      <td>0.69</td>\n",
       "      <td>3.5</td>\n",
       "      <td>2013-06-09T15:51:55Z</td>\n",
       "      <td>Subject: Web Development</td>\n",
       "    </tr>\n",
       "    <tr>\n",
       "      <th>2</th>\n",
       "      <td>625204.0</td>\n",
       "      <td>The Web Developer Bootcamp</td>\n",
       "      <td>https://www.udemy.com/the-web-developer-bootcamp/</td>\n",
       "      <td>200.0</td>\n",
       "      <td>121584.0</td>\n",
       "      <td>27445.0</td>\n",
       "      <td>342.0</td>\n",
       "      <td>Beginner Level</td>\n",
       "      <td>0.89</td>\n",
       "      <td>43.0</td>\n",
       "      <td>2015-11-02T21:13:27Z</td>\n",
       "      <td>Subject: Web Development</td>\n",
       "    </tr>\n",
       "    <tr>\n",
       "      <th>3</th>\n",
       "      <td>173548.0</td>\n",
       "      <td>Build Your First Website in 1 Week with HTML5 ...</td>\n",
       "      <td>https://www.udemy.com/build-your-first-website...</td>\n",
       "      <td>0.0</td>\n",
       "      <td>120291.0</td>\n",
       "      <td>5924.0</td>\n",
       "      <td>30.0</td>\n",
       "      <td>All Levels</td>\n",
       "      <td>0.78</td>\n",
       "      <td>3.0</td>\n",
       "      <td>2014-04-08T16:21:30Z</td>\n",
       "      <td>Subject: Web Development</td>\n",
       "    </tr>\n",
       "    <tr>\n",
       "      <th>4</th>\n",
       "      <td>764164.0</td>\n",
       "      <td>The Complete Web Developer Course 2.0</td>\n",
       "      <td>https://www.udemy.com/the-complete-web-develop...</td>\n",
       "      <td>200.0</td>\n",
       "      <td>114512.0</td>\n",
       "      <td>22412.0</td>\n",
       "      <td>304.0</td>\n",
       "      <td>Beginner Level</td>\n",
       "      <td>0.55</td>\n",
       "      <td>30.5</td>\n",
       "      <td>2016-03-08T22:28:36Z</td>\n",
       "      <td>Subject: Web Development</td>\n",
       "    </tr>\n",
       "  </tbody>\n",
       "</table>\n",
       "</div>"
      ],
      "text/plain": [
       "   course_id                                       course_title  \\\n",
       "0    41295.0               Learn HTML5 Programming From Scratch   \n",
       "1    59014.0                     Coding for Entrepreneurs Basic   \n",
       "2   625204.0                         The Web Developer Bootcamp   \n",
       "3   173548.0  Build Your First Website in 1 Week with HTML5 ...   \n",
       "4   764164.0              The Complete Web Developer Course 2.0   \n",
       "\n",
       "                                                 url  price  num_subscribers  \\\n",
       "0  https://www.udemy.com/learn-html5-programming-...    0.0         268923.0   \n",
       "1  https://www.udemy.com/coding-for-entrepreneurs...    0.0         161029.0   \n",
       "2  https://www.udemy.com/the-web-developer-bootcamp/  200.0         121584.0   \n",
       "3  https://www.udemy.com/build-your-first-website...    0.0         120291.0   \n",
       "4  https://www.udemy.com/the-complete-web-develop...  200.0         114512.0   \n",
       "\n",
       "   num_reviews  num_lectures           level  Rating  content_duration  \\\n",
       "0       8629.0          45.0  Beginner Level    0.82              10.5   \n",
       "1        279.0          27.0    Expert Level    0.69               3.5   \n",
       "2      27445.0         342.0  Beginner Level    0.89              43.0   \n",
       "3       5924.0          30.0      All Levels    0.78               3.0   \n",
       "4      22412.0         304.0  Beginner Level    0.55              30.5   \n",
       "\n",
       "    published_timestamp                   subject  \n",
       "0  2013-02-14T07:03:41Z  Subject: Web Development  \n",
       "1  2013-06-09T15:51:55Z  Subject: Web Development  \n",
       "2  2015-11-02T21:13:27Z  Subject: Web Development  \n",
       "3  2014-04-08T16:21:30Z  Subject: Web Development  \n",
       "4  2016-03-08T22:28:36Z  Subject: Web Development  "
      ]
     },
     "execution_count": 3,
     "metadata": {},
     "output_type": "execute_result"
    }
   ],
   "source": [
    "df.head()"
   ]
  },
  {
   "cell_type": "code",
   "execution_count": 4,
   "id": "2f58883f",
   "metadata": {},
   "outputs": [
    {
     "data": {
      "text/plain": [
       "Index(['course_id', 'course_title', 'url', 'price', 'num_subscribers',\n",
       "       'num_reviews', 'num_lectures', 'level', 'Rating', 'content_duration',\n",
       "       'published_timestamp', 'subject'],\n",
       "      dtype='object')"
      ]
     },
     "execution_count": 4,
     "metadata": {},
     "output_type": "execute_result"
    }
   ],
   "source": [
    "df.columns"
   ]
  },
  {
   "cell_type": "code",
   "execution_count": 5,
   "id": "408a0f74",
   "metadata": {},
   "outputs": [
    {
     "name": "stdout",
     "output_type": "stream",
     "text": [
      "<class 'pandas.core.frame.DataFrame'>\n",
      "RangeIndex: 3680 entries, 0 to 3679\n",
      "Data columns (total 12 columns):\n",
      " #   Column               Non-Null Count  Dtype  \n",
      "---  ------               --------------  -----  \n",
      " 0   course_id            3676 non-null   float64\n",
      " 1   course_title         3676 non-null   object \n",
      " 2   url                  3676 non-null   object \n",
      " 3   price                3676 non-null   float64\n",
      " 4   num_subscribers      3676 non-null   float64\n",
      " 5   num_reviews          3676 non-null   float64\n",
      " 6   num_lectures         3676 non-null   float64\n",
      " 7   level                3676 non-null   object \n",
      " 8   Rating               3676 non-null   float64\n",
      " 9   content_duration     3676 non-null   float64\n",
      " 10  published_timestamp  3676 non-null   object \n",
      " 11  subject              3677 non-null   object \n",
      "dtypes: float64(7), object(5)\n",
      "memory usage: 345.1+ KB\n"
     ]
    }
   ],
   "source": [
    "df.info()"
   ]
  },
  {
   "cell_type": "code",
   "execution_count": 6,
   "id": "75ce379c",
   "metadata": {},
   "outputs": [
    {
     "data": {
      "text/plain": [
       "course_id              4\n",
       "course_title           4\n",
       "url                    4\n",
       "price                  4\n",
       "num_subscribers        4\n",
       "num_reviews            4\n",
       "num_lectures           4\n",
       "level                  4\n",
       "Rating                 4\n",
       "content_duration       4\n",
       "published_timestamp    4\n",
       "subject                3\n",
       "dtype: int64"
      ]
     },
     "execution_count": 6,
     "metadata": {},
     "output_type": "execute_result"
    }
   ],
   "source": [
    "df.isnull().sum()"
   ]
  },
  {
   "cell_type": "code",
   "execution_count": 7,
   "id": "5b523f3f",
   "metadata": {},
   "outputs": [
    {
     "data": {
      "text/html": [
       "<div>\n",
       "<style scoped>\n",
       "    .dataframe tbody tr th:only-of-type {\n",
       "        vertical-align: middle;\n",
       "    }\n",
       "\n",
       "    .dataframe tbody tr th {\n",
       "        vertical-align: top;\n",
       "    }\n",
       "\n",
       "    .dataframe thead th {\n",
       "        text-align: right;\n",
       "    }\n",
       "</style>\n",
       "<table border=\"1\" class=\"dataframe\">\n",
       "  <thead>\n",
       "    <tr style=\"text-align: right;\">\n",
       "      <th></th>\n",
       "      <th>course_id</th>\n",
       "      <th>course_title</th>\n",
       "      <th>url</th>\n",
       "      <th>price</th>\n",
       "      <th>num_subscribers</th>\n",
       "      <th>num_reviews</th>\n",
       "      <th>num_lectures</th>\n",
       "      <th>level</th>\n",
       "      <th>Rating</th>\n",
       "      <th>content_duration</th>\n",
       "      <th>published_timestamp</th>\n",
       "      <th>subject</th>\n",
       "    </tr>\n",
       "  </thead>\n",
       "  <tbody>\n",
       "    <tr>\n",
       "      <th>193</th>\n",
       "      <td>NaN</td>\n",
       "      <td>NaN</td>\n",
       "      <td>NaN</td>\n",
       "      <td>NaN</td>\n",
       "      <td>NaN</td>\n",
       "      <td>NaN</td>\n",
       "      <td>NaN</td>\n",
       "      <td>NaN</td>\n",
       "      <td>NaN</td>\n",
       "      <td>NaN</td>\n",
       "      <td>NaN</td>\n",
       "      <td>NaN</td>\n",
       "    </tr>\n",
       "    <tr>\n",
       "      <th>405</th>\n",
       "      <td>NaN</td>\n",
       "      <td>NaN</td>\n",
       "      <td>NaN</td>\n",
       "      <td>NaN</td>\n",
       "      <td>NaN</td>\n",
       "      <td>NaN</td>\n",
       "      <td>NaN</td>\n",
       "      <td>NaN</td>\n",
       "      <td>NaN</td>\n",
       "      <td>NaN</td>\n",
       "      <td>NaN</td>\n",
       "      <td>Subject: Web Development</td>\n",
       "    </tr>\n",
       "    <tr>\n",
       "      <th>2490</th>\n",
       "      <td>NaN</td>\n",
       "      <td>NaN</td>\n",
       "      <td>NaN</td>\n",
       "      <td>NaN</td>\n",
       "      <td>NaN</td>\n",
       "      <td>NaN</td>\n",
       "      <td>NaN</td>\n",
       "      <td>NaN</td>\n",
       "      <td>NaN</td>\n",
       "      <td>NaN</td>\n",
       "      <td>NaN</td>\n",
       "      <td>NaN</td>\n",
       "    </tr>\n",
       "    <tr>\n",
       "      <th>2830</th>\n",
       "      <td>NaN</td>\n",
       "      <td>NaN</td>\n",
       "      <td>NaN</td>\n",
       "      <td>NaN</td>\n",
       "      <td>NaN</td>\n",
       "      <td>NaN</td>\n",
       "      <td>NaN</td>\n",
       "      <td>NaN</td>\n",
       "      <td>NaN</td>\n",
       "      <td>NaN</td>\n",
       "      <td>NaN</td>\n",
       "      <td>NaN</td>\n",
       "    </tr>\n",
       "  </tbody>\n",
       "</table>\n",
       "</div>"
      ],
      "text/plain": [
       "      course_id course_title  url  price  num_subscribers  num_reviews  \\\n",
       "193         NaN          NaN  NaN    NaN              NaN          NaN   \n",
       "405         NaN          NaN  NaN    NaN              NaN          NaN   \n",
       "2490        NaN          NaN  NaN    NaN              NaN          NaN   \n",
       "2830        NaN          NaN  NaN    NaN              NaN          NaN   \n",
       "\n",
       "      num_lectures level  Rating  content_duration published_timestamp  \\\n",
       "193            NaN   NaN     NaN               NaN                 NaN   \n",
       "405            NaN   NaN     NaN               NaN                 NaN   \n",
       "2490           NaN   NaN     NaN               NaN                 NaN   \n",
       "2830           NaN   NaN     NaN               NaN                 NaN   \n",
       "\n",
       "                       subject  \n",
       "193                        NaN  \n",
       "405   Subject: Web Development  \n",
       "2490                       NaN  \n",
       "2830                       NaN  "
      ]
     },
     "execution_count": 7,
     "metadata": {},
     "output_type": "execute_result"
    }
   ],
   "source": [
    "df.loc[df['course_id'].isnull()]"
   ]
  },
  {
   "cell_type": "markdown",
   "id": "6d13bf64",
   "metadata": {},
   "source": [
    "# Data Pre-Processing"
   ]
  },
  {
   "cell_type": "code",
   "execution_count": 8,
   "id": "fc9b822d",
   "metadata": {},
   "outputs": [],
   "source": [
    "df = df.dropna()"
   ]
  },
  {
   "cell_type": "code",
   "execution_count": 9,
   "id": "c137c168",
   "metadata": {},
   "outputs": [
    {
     "data": {
      "text/plain": [
       "(3676, 12)"
      ]
     },
     "execution_count": 9,
     "metadata": {},
     "output_type": "execute_result"
    }
   ],
   "source": [
    "df.shape"
   ]
  },
  {
   "cell_type": "code",
   "execution_count": 111,
   "id": "56647c90",
   "metadata": {},
   "outputs": [
    {
     "data": {
      "image/png": "[encoded data removed]",
      "text/plain": [
       "<Figure size 640x480 with 1 Axes>"
      ]
     },
     "metadata": {},
     "output_type": "display_data"
    },
    {
     "data": {
      "image/png": "[encoded data removed]",
      "text/plain": [
       "<Figure size 640x480 with 1 Axes>"
      ]
     },
     "metadata": {},
     "output_type": "display_data"
    },
    {
     "data": {
      "image/png": "[encoded data removed]",
      "text/plain": [
       "<Figure size 640x480 with 1 Axes>"
      ]
     },
     "metadata": {},
     "output_type": "display_data"
    }
   ],
   "source": [
    "import seaborn as sns\n",
    "\n",
    "sns.boxplot(data=df, x=\"num_subscribers\")\n",
    "plt.show()\n",
    "\n",
    "\n",
    "sns.boxplot(data=df, x=\"num_reviews\")\n",
    "plt.show()\n",
    "\n",
    "\n",
    "\n",
    "sns.boxplot(data=df, x=\"num_lectures\")\n",
    "plt.show()"
   ]
  },
  {
   "cell_type": "code",
   "execution_count": 115,
   "id": "eddb0e10",
   "metadata": {},
   "outputs": [],
   "source": [
    "df_new = df[df['num_subscribers'] != 0]\n",
    "df_new = df_new[df_new['num_reviews'] != 0]"
   ]
  },
  {
   "cell_type": "code",
   "execution_count": 117,
   "id": "e7f450e4",
   "metadata": {},
   "outputs": [
    {
     "data": {
      "text/plain": [
       "(3392, 12)"
      ]
     },
     "execution_count": 117,
     "metadata": {},
     "output_type": "execute_result"
    }
   ],
   "source": [
    "\n",
    "df_new.tail()\n",
    "df_new.shape"
   ]
  },
  {
   "cell_type": "code",
   "execution_count": 119,
   "id": "89e3cf18",
   "metadata": {},
   "outputs": [],
   "source": [
    "\n",
    "df_new_data = df.loc[df['num_reviews'] != 0]"
   ]
  },
  {
   "cell_type": "code",
   "execution_count": 121,
   "id": "9b693cb5",
   "metadata": {},
   "outputs": [
    {
     "data": {
      "text/plain": [
       "(3611, 12)"
      ]
     },
     "execution_count": 121,
     "metadata": {},
     "output_type": "execute_result"
    }
   ],
   "source": [
    "df_new_data = df.loc[df['num_subscribers'] != 0]\n",
    "df_new_data.shape"
   ]
  },
  {
   "cell_type": "code",
   "execution_count": 122,
   "id": "b66cbdf2",
   "metadata": {},
   "outputs": [
    {
     "data": {
      "text/plain": [
       "course_id              0\n",
       "course_title           0\n",
       "url                    0\n",
       "price                  0\n",
       "num_subscribers        0\n",
       "num_reviews            0\n",
       "num_lectures           0\n",
       "level                  0\n",
       "Rating                 0\n",
       "content_duration       0\n",
       "published_timestamp    0\n",
       "subject                0\n",
       "dtype: int64"
      ]
     },
     "execution_count": 122,
     "metadata": {},
     "output_type": "execute_result"
    }
   ],
   "source": [
    "df.isnull().sum()"
   ]
  },
  {
   "cell_type": "code",
   "execution_count": 155,
   "id": "d8fb636e",
   "metadata": {},
   "outputs": [
    {
     "data": {
      "image/png": "[encoded data removed]",
      "text/plain": [
       "<Figure size 640x480 with 1 Axes>"
      ]
     },
     "metadata": {},
     "output_type": "display_data"
    },
    {
     "data": {
      "image/png": "[encoded data removed]",
      "text/plain": [
       "<Figure size 640x480 with 1 Axes>"
      ]
     },
     "metadata": {},
     "output_type": "display_data"
    },
    {
     "data": {
      "image/png": "[encoded data removed]",
      "text/plain": [
       "<Figure size 640x480 with 1 Axes>"
      ]
     },
     "metadata": {},
     "output_type": "display_data"
    }
   ],
   "source": [
    "sns.boxplot(data=df_new_data, x=\"num_subscribers\")\n",
    "plt.show()\n",
    "\n",
    "\n",
    "sns.boxplot(data=df, x=\"num_reviews\")\n",
    "plt.show()\n",
    "\n",
    "\n",
    "\n",
    "sns.boxplot(data=df, x=\"num_lectures\")\n",
    "plt.show()"
   ]
  },
  {
   "cell_type": "markdown",
   "id": "81bd42a5",
   "metadata": {},
   "source": [
    "# Outlier detection and removal\n"
   ]
  },
  {
   "cell_type": "code",
   "execution_count": 167,
   "id": "c30dcd11",
   "metadata": {},
   "outputs": [
    {
     "name": "stdout",
     "output_type": "stream",
     "text": [
      "mean of the dataset is course_id           669282.397674\n",
      "price                   66.462199\n",
      "num_subscribers       3256.849349\n",
      "num_reviews            159.123511\n",
      "num_lectures            40.626973\n",
      "level                    0.724453\n",
      "Rating                   0.610654\n",
      "content_duration         4.143460\n",
      "dtype: float64\n",
      "std. deviation is course_id           340259.325454\n",
      "price                   61.303639\n",
      "num_subscribers       9560.478091\n",
      "num_reviews            943.692684\n",
      "num_lectures            50.695305\n",
      "level                    0.960711\n",
      "Rating                   0.334948\n",
      "content_duration         6.096168\n",
      "dtype: float64\n"
     ]
    }
   ],
   "source": [
    "\n",
    "mean = np.mean(df_new_data) \n",
    "std = np.std(df_new_data) \n",
    "print('mean of the dataset is', mean) \n",
    "print('std. deviation is', std) \n"
   ]
  },
  {
   "cell_type": "code",
   "execution_count": 207,
   "id": "4ffc2b61",
   "metadata": {},
   "outputs": [
    {
     "name": "stdout",
     "output_type": "stream",
     "text": [
      "outlier in dataset is []\n"
     ]
    }
   ],
   "source": [
    "threshold = 3\n",
    "outlier = [] \n",
    "\n",
    "#df_rm_outliers = \n",
    "\n",
    "for i in df_new_data.iterrows(): \n",
    "    #print(mean['num_subscribers'])\n",
    "    z = (i[1]['num_subscribers']-mean['num_subscribers'])/std['num_subscribers']\n",
    "    \n",
    "    if z > threshold: \n",
    "        #outlier.append(i) \n",
    "        df_new_data.drop(i[0],inplace=True)\n",
    "print('outlier in dataset is', outlier) "
   ]
  },
  {
   "cell_type": "code",
   "execution_count": 209,
   "id": "67db9322",
   "metadata": {},
   "outputs": [
    {
     "name": "stdout",
     "output_type": "stream",
     "text": [
      "outlier in dataset is []\n"
     ]
    }
   ],
   "source": [
    "threshold = 3\n",
    "outlier = [] \n",
    "\n",
    "#df_rm_outliers = \n",
    "\n",
    "for i in df_new_data.iterrows(): \n",
    "    #print(mean['num_subscribers'])\n",
    "    z = (i[1]['num_reviews']-mean['num_reviews'])/std['num_reviews']\n",
    "    \n",
    "    if z > threshold: \n",
    "        #outlier.append(i) \n",
    "        df_new_data.drop(i[0],inplace=True)\n",
    "print('outlier in dataset is', outlier) "
   ]
  },
  {
   "cell_type": "code",
   "execution_count": null,
   "id": "dfb8db21",
   "metadata": {},
   "outputs": [],
   "source": []
  },
  {
   "cell_type": "code",
   "execution_count": 210,
   "id": "6f84c4bb",
   "metadata": {},
   "outputs": [
    {
     "data": {
      "text/plain": [
       "(3556, 12)"
      ]
     },
     "execution_count": 210,
     "metadata": {},
     "output_type": "execute_result"
    }
   ],
   "source": [
    "df_new_data.shape"
   ]
  },
  {
   "cell_type": "code",
   "execution_count": 114,
   "id": "68c8d788",
   "metadata": {},
   "outputs": [],
   "source": [
    "df_sub=df.nlargest(10, ['num_subscribers']) \n",
    "df_rev=df.nlargest(10, ['num_reviews']) \n",
    "df_rat=df.nlargest(10, ['Rating']) "
   ]
  },
  {
   "cell_type": "markdown",
   "id": "f83c4954",
   "metadata": {},
   "source": [
    "# EDA"
   ]
  },
  {
   "cell_type": "code",
   "execution_count": 20,
   "id": "e92ee9ed",
   "metadata": {},
   "outputs": [
    {
     "data": {
      "text/html": [
       "<div>\n",
       "<style scoped>\n",
       "    .dataframe tbody tr th:only-of-type {\n",
       "        vertical-align: middle;\n",
       "    }\n",
       "\n",
       "    .dataframe tbody tr th {\n",
       "        vertical-align: top;\n",
       "    }\n",
       "\n",
       "    .dataframe thead th {\n",
       "        text-align: right;\n",
       "    }\n",
       "</style>\n",
       "<table border=\"1\" class=\"dataframe\">\n",
       "  <thead>\n",
       "    <tr style=\"text-align: right;\">\n",
       "      <th></th>\n",
       "      <th>course_id</th>\n",
       "      <th>course_title</th>\n",
       "      <th>url</th>\n",
       "      <th>price</th>\n",
       "      <th>num_subscribers</th>\n",
       "      <th>num_reviews</th>\n",
       "      <th>num_lectures</th>\n",
       "      <th>level</th>\n",
       "      <th>Rating</th>\n",
       "      <th>content_duration</th>\n",
       "      <th>published_timestamp</th>\n",
       "      <th>subject</th>\n",
       "    </tr>\n",
       "  </thead>\n",
       "  <tbody>\n",
       "    <tr>\n",
       "      <th>0</th>\n",
       "      <td>41295.0</td>\n",
       "      <td>Learn HTML5 Programming From Scratch</td>\n",
       "      <td>https://www.udemy.com/learn-html5-programming-...</td>\n",
       "      <td>0.0</td>\n",
       "      <td>268923.0</td>\n",
       "      <td>8629.0</td>\n",
       "      <td>45.0</td>\n",
       "      <td>Beginner Level</td>\n",
       "      <td>0.82</td>\n",
       "      <td>10.5</td>\n",
       "      <td>2013-02-14T07:03:41Z</td>\n",
       "      <td>Subject: Web Development</td>\n",
       "    </tr>\n",
       "    <tr>\n",
       "      <th>1</th>\n",
       "      <td>59014.0</td>\n",
       "      <td>Coding for Entrepreneurs Basic</td>\n",
       "      <td>https://www.udemy.com/coding-for-entrepreneurs...</td>\n",
       "      <td>0.0</td>\n",
       "      <td>161029.0</td>\n",
       "      <td>279.0</td>\n",
       "      <td>27.0</td>\n",
       "      <td>Expert Level</td>\n",
       "      <td>0.69</td>\n",
       "      <td>3.5</td>\n",
       "      <td>2013-06-09T15:51:55Z</td>\n",
       "      <td>Subject: Web Development</td>\n",
       "    </tr>\n",
       "    <tr>\n",
       "      <th>2</th>\n",
       "      <td>625204.0</td>\n",
       "      <td>The Web Developer Bootcamp</td>\n",
       "      <td>https://www.udemy.com/the-web-developer-bootcamp/</td>\n",
       "      <td>200.0</td>\n",
       "      <td>121584.0</td>\n",
       "      <td>27445.0</td>\n",
       "      <td>342.0</td>\n",
       "      <td>Beginner Level</td>\n",
       "      <td>0.89</td>\n",
       "      <td>43.0</td>\n",
       "      <td>2015-11-02T21:13:27Z</td>\n",
       "      <td>Subject: Web Development</td>\n",
       "    </tr>\n",
       "    <tr>\n",
       "      <th>3</th>\n",
       "      <td>173548.0</td>\n",
       "      <td>Build Your First Website in 1 Week with HTML5 ...</td>\n",
       "      <td>https://www.udemy.com/build-your-first-website...</td>\n",
       "      <td>0.0</td>\n",
       "      <td>120291.0</td>\n",
       "      <td>5924.0</td>\n",
       "      <td>30.0</td>\n",
       "      <td>All Levels</td>\n",
       "      <td>0.78</td>\n",
       "      <td>3.0</td>\n",
       "      <td>2014-04-08T16:21:30Z</td>\n",
       "      <td>Subject: Web Development</td>\n",
       "    </tr>\n",
       "    <tr>\n",
       "      <th>4</th>\n",
       "      <td>764164.0</td>\n",
       "      <td>The Complete Web Developer Course 2.0</td>\n",
       "      <td>https://www.udemy.com/the-complete-web-develop...</td>\n",
       "      <td>200.0</td>\n",
       "      <td>114512.0</td>\n",
       "      <td>22412.0</td>\n",
       "      <td>304.0</td>\n",
       "      <td>Beginner Level</td>\n",
       "      <td>0.55</td>\n",
       "      <td>30.5</td>\n",
       "      <td>2016-03-08T22:28:36Z</td>\n",
       "      <td>Subject: Web Development</td>\n",
       "    </tr>\n",
       "    <tr>\n",
       "      <th>3000</th>\n",
       "      <td>19421.0</td>\n",
       "      <td>Free Beginner Electric Guitar Lessons</td>\n",
       "      <td>https://www.udemy.com/beginner-electric-guitar...</td>\n",
       "      <td>0.0</td>\n",
       "      <td>101154.0</td>\n",
       "      <td>1042.0</td>\n",
       "      <td>95.0</td>\n",
       "      <td>All Levels</td>\n",
       "      <td>0.88</td>\n",
       "      <td>4.5</td>\n",
       "      <td>2012-06-15T17:00:33Z</td>\n",
       "      <td>Musical Instruments</td>\n",
       "    </tr>\n",
       "    <tr>\n",
       "      <th>5</th>\n",
       "      <td>473160.0</td>\n",
       "      <td>Web Design for Web Developers: Build Beautiful...</td>\n",
       "      <td>https://www.udemy.com/web-design-secrets/</td>\n",
       "      <td>0.0</td>\n",
       "      <td>98867.0</td>\n",
       "      <td>6512.0</td>\n",
       "      <td>20.0</td>\n",
       "      <td>All Levels</td>\n",
       "      <td>0.82</td>\n",
       "      <td>3.0</td>\n",
       "      <td>2015-04-13T18:29:47Z</td>\n",
       "      <td>Subject: Web Development</td>\n",
       "    </tr>\n",
       "    <tr>\n",
       "      <th>6</th>\n",
       "      <td>94430.0</td>\n",
       "      <td>Learn Javascript &amp; JQuery From Scratch</td>\n",
       "      <td>https://www.udemy.com/learn-javascript-jquery-...</td>\n",
       "      <td>30.0</td>\n",
       "      <td>84897.0</td>\n",
       "      <td>2685.0</td>\n",
       "      <td>10.0</td>\n",
       "      <td>All Levels</td>\n",
       "      <td>0.79</td>\n",
       "      <td>2.0</td>\n",
       "      <td>2013-10-10T15:19:29Z</td>\n",
       "      <td>Subject: Web Development</td>\n",
       "    </tr>\n",
       "    <tr>\n",
       "      <th>7</th>\n",
       "      <td>130064.0</td>\n",
       "      <td>Practical PHP: Master the Basics and Code Dyna...</td>\n",
       "      <td>https://www.udemy.com/code-dynamic-websites/</td>\n",
       "      <td>0.0</td>\n",
       "      <td>83737.0</td>\n",
       "      <td>4598.0</td>\n",
       "      <td>45.0</td>\n",
       "      <td>Intermediate Level</td>\n",
       "      <td>0.85</td>\n",
       "      <td>6.5</td>\n",
       "      <td>2014-07-19T03:02:05Z</td>\n",
       "      <td>Subject: Web Development</td>\n",
       "    </tr>\n",
       "    <tr>\n",
       "      <th>8</th>\n",
       "      <td>364426.0</td>\n",
       "      <td>JavaScript: Understanding the Weird Parts</td>\n",
       "      <td>https://www.udemy.com/understand-javascript/</td>\n",
       "      <td>175.0</td>\n",
       "      <td>79612.0</td>\n",
       "      <td>16976.0</td>\n",
       "      <td>85.0</td>\n",
       "      <td>All Levels</td>\n",
       "      <td>0.69</td>\n",
       "      <td>11.5</td>\n",
       "      <td>2015-03-12T23:19:54Z</td>\n",
       "      <td>Subject: Web Development</td>\n",
       "    </tr>\n",
       "  </tbody>\n",
       "</table>\n",
       "</div>"
      ],
      "text/plain": [
       "      course_id                                       course_title  \\\n",
       "0       41295.0               Learn HTML5 Programming From Scratch   \n",
       "1       59014.0                     Coding for Entrepreneurs Basic   \n",
       "2      625204.0                         The Web Developer Bootcamp   \n",
       "3      173548.0  Build Your First Website in 1 Week with HTML5 ...   \n",
       "4      764164.0              The Complete Web Developer Course 2.0   \n",
       "3000    19421.0              Free Beginner Electric Guitar Lessons   \n",
       "5      473160.0  Web Design for Web Developers: Build Beautiful...   \n",
       "6       94430.0             Learn Javascript & JQuery From Scratch   \n",
       "7      130064.0  Practical PHP: Master the Basics and Code Dyna...   \n",
       "8      364426.0          JavaScript: Understanding the Weird Parts   \n",
       "\n",
       "                                                    url  price  \\\n",
       "0     https://www.udemy.com/learn-html5-programming-...    0.0   \n",
       "1     https://www.udemy.com/coding-for-entrepreneurs...    0.0   \n",
       "2     https://www.udemy.com/the-web-developer-bootcamp/  200.0   \n",
       "3     https://www.udemy.com/build-your-first-website...    0.0   \n",
       "4     https://www.udemy.com/the-complete-web-develop...  200.0   \n",
       "3000  https://www.udemy.com/beginner-electric-guitar...    0.0   \n",
       "5             https://www.udemy.com/web-design-secrets/    0.0   \n",
       "6     https://www.udemy.com/learn-javascript-jquery-...   30.0   \n",
       "7          https://www.udemy.com/code-dynamic-websites/    0.0   \n",
       "8          https://www.udemy.com/understand-javascript/  175.0   \n",
       "\n",
       "      num_subscribers  num_reviews  num_lectures               level  Rating  \\\n",
       "0            268923.0       8629.0          45.0      Beginner Level    0.82   \n",
       "1            161029.0        279.0          27.0        Expert Level    0.69   \n",
       "2            121584.0      27445.0         342.0      Beginner Level    0.89   \n",
       "3            120291.0       5924.0          30.0          All Levels    0.78   \n",
       "4            114512.0      22412.0         304.0      Beginner Level    0.55   \n",
       "3000         101154.0       1042.0          95.0          All Levels    0.88   \n",
       "5             98867.0       6512.0          20.0          All Levels    0.82   \n",
       "6             84897.0       2685.0          10.0          All Levels    0.79   \n",
       "7             83737.0       4598.0          45.0  Intermediate Level    0.85   \n",
       "8             79612.0      16976.0          85.0          All Levels    0.69   \n",
       "\n",
       "      content_duration   published_timestamp                   subject  \n",
       "0                 10.5  2013-02-14T07:03:41Z  Subject: Web Development  \n",
       "1                  3.5  2013-06-09T15:51:55Z  Subject: Web Development  \n",
       "2                 43.0  2015-11-02T21:13:27Z  Subject: Web Development  \n",
       "3                  3.0  2014-04-08T16:21:30Z  Subject: Web Development  \n",
       "4                 30.5  2016-03-08T22:28:36Z  Subject: Web Development  \n",
       "3000               4.5  2012-06-15T17:00:33Z       Musical Instruments  \n",
       "5                  3.0  2015-04-13T18:29:47Z  Subject: Web Development  \n",
       "6                  2.0  2013-10-10T15:19:29Z  Subject: Web Development  \n",
       "7                  6.5  2014-07-19T03:02:05Z  Subject: Web Development  \n",
       "8                 11.5  2015-03-12T23:19:54Z  Subject: Web Development  "
      ]
     },
     "execution_count": 20,
     "metadata": {},
     "output_type": "execute_result"
    }
   ],
   "source": [
    "df_sub"
   ]
  },
  {
   "cell_type": "code",
   "execution_count": 115,
   "id": "de4e7926",
   "metadata": {},
   "outputs": [
    {
     "data": {
      "text/plain": [
       "<Axes: xlabel='course_title'>"
      ]
     },
     "execution_count": 115,
     "metadata": {},
     "output_type": "execute_result"
    },
    {
     "data": {
      "image/png": "[encoded data removed]",
      "text/plain": [
       "<Figure size 640x480 with 1 Axes>"
      ]
     },
     "metadata": {},
     "output_type": "display_data"
    }
   ],
   "source": [
    "#df_sub.plot( x='course_title', y='num_subscribers', kind='hist')\n",
    "ax = df_sub.plot(x=\"course_title\", y=\"num_subscribers\", kind=\"bar\") \n",
    "\n",
    "df_rev.plot(x=\"course_title\", y=\"num_reviews\", kind=\"bar\", ax=ax, color=\"maroon\")\n"
   ]
  },
  {
   "cell_type": "code",
   "execution_count": 117,
   "id": "540e2592",
   "metadata": {},
   "outputs": [
    {
     "data": {
      "image/png": "[encoded data removed]",
      "text/plain": [
       "<Figure size 640x480 with 1 Axes>"
      ]
     },
     "metadata": {},
     "output_type": "display_data"
    }
   ],
   "source": [
    "plt.hist(df_sub['num_subscribers'], label='Subscribers', alpha=.8, edgecolor='red')\n",
    " \n",
    "# plotting second histogram\n",
    "plt.hist(df_rev['num_reviews'], label='Reviews', alpha=0.7, edgecolor='yellow')\n",
    "\n",
    "plt.hist(df_rat['Rating'], label='Ratings', alpha=0.7, edgecolor='Blue')\n",
    "\n",
    "plt.legend()\n",
    "\n",
    "plt.xlabel(\"Subscribers\")\n",
    "plt.ylabel(\"Ratings/ Reviews\")\n",
    "# Showing the plot using plt.show()\n",
    "plt.show()"
   ]
  },
  {
   "cell_type": "code",
   "execution_count": 211,
   "id": "8e37bc3d",
   "metadata": {},
   "outputs": [],
   "source": [
    "#use Ordinal encoder to convert categorical data into numerical data.\n",
    "from sklearn.preprocessing import OrdinalEncoder\n",
    "oe = OrdinalEncoder()\n",
    "df_new_data.level = oe.fit_transform(df_new_data[['level']])\n"
   ]
  },
  {
   "cell_type": "code",
   "execution_count": 212,
   "id": "c7e17ad5",
   "metadata": {
    "scrolled": true
   },
   "outputs": [
    {
     "data": {
      "text/html": [
       "<div>\n",
       "<style scoped>\n",
       "    .dataframe tbody tr th:only-of-type {\n",
       "        vertical-align: middle;\n",
       "    }\n",
       "\n",
       "    .dataframe tbody tr th {\n",
       "        vertical-align: top;\n",
       "    }\n",
       "\n",
       "    .dataframe thead th {\n",
       "        text-align: right;\n",
       "    }\n",
       "</style>\n",
       "<table border=\"1\" class=\"dataframe\">\n",
       "  <thead>\n",
       "    <tr style=\"text-align: right;\">\n",
       "      <th></th>\n",
       "      <th>course_id</th>\n",
       "      <th>course_title</th>\n",
       "      <th>url</th>\n",
       "      <th>price</th>\n",
       "      <th>num_subscribers</th>\n",
       "      <th>num_reviews</th>\n",
       "      <th>num_lectures</th>\n",
       "      <th>level</th>\n",
       "      <th>Rating</th>\n",
       "      <th>content_duration</th>\n",
       "      <th>published_timestamp</th>\n",
       "      <th>subject</th>\n",
       "    </tr>\n",
       "  </thead>\n",
       "  <tbody>\n",
       "    <tr>\n",
       "      <th>36</th>\n",
       "      <td>695656.0</td>\n",
       "      <td>The Complete JavaScript Course For Web Develop...</td>\n",
       "      <td>https://www.udemy.com/javascriptcourse/</td>\n",
       "      <td>195.0</td>\n",
       "      <td>31499.0</td>\n",
       "      <td>450.0</td>\n",
       "      <td>46.0</td>\n",
       "      <td>1.0</td>\n",
       "      <td>0.76</td>\n",
       "      <td>4.0</td>\n",
       "      <td>2015-12-29T17:20:32Z</td>\n",
       "      <td>Subject: Web Development</td>\n",
       "    </tr>\n",
       "    <tr>\n",
       "      <th>37</th>\n",
       "      <td>19332.0</td>\n",
       "      <td>The Original Complete Web Developer Course.</td>\n",
       "      <td>https://www.udemy.com/thecompletewebdeveloper/</td>\n",
       "      <td>20.0</td>\n",
       "      <td>31070.0</td>\n",
       "      <td>742.0</td>\n",
       "      <td>195.0</td>\n",
       "      <td>1.0</td>\n",
       "      <td>0.07</td>\n",
       "      <td>18.0</td>\n",
       "      <td>2012-10-28T00:13:03Z</td>\n",
       "      <td>Subject: Web Development</td>\n",
       "    </tr>\n",
       "    <tr>\n",
       "      <th>38</th>\n",
       "      <td>511934.0</td>\n",
       "      <td>AngularJS For Beginners</td>\n",
       "      <td>https://www.udemy.com/angularjs-for-beginners-...</td>\n",
       "      <td>0.0</td>\n",
       "      <td>30531.0</td>\n",
       "      <td>1948.0</td>\n",
       "      <td>53.0</td>\n",
       "      <td>0.0</td>\n",
       "      <td>0.78</td>\n",
       "      <td>3.0</td>\n",
       "      <td>2015-06-30T20:28:22Z</td>\n",
       "      <td>Subject: Web Development</td>\n",
       "    </tr>\n",
       "    <tr>\n",
       "      <th>39</th>\n",
       "      <td>267560.0</td>\n",
       "      <td>Learn E-Commerce Website in PHP &amp; MySQL From S...</td>\n",
       "      <td>https://www.udemy.com/ecommerce-website-in-php...</td>\n",
       "      <td>0.0</td>\n",
       "      <td>29990.0</td>\n",
       "      <td>1342.0</td>\n",
       "      <td>87.0</td>\n",
       "      <td>1.0</td>\n",
       "      <td>0.95</td>\n",
       "      <td>17.5</td>\n",
       "      <td>2014-08-10T10:27:28Z</td>\n",
       "      <td>Subject: Web Development</td>\n",
       "    </tr>\n",
       "    <tr>\n",
       "      <th>40</th>\n",
       "      <td>866460.0</td>\n",
       "      <td>Angular 2+ with Typescript - Essential Training</td>\n",
       "      <td>https://www.udemy.com/angular-2-training/</td>\n",
       "      <td>195.0</td>\n",
       "      <td>29348.0</td>\n",
       "      <td>780.0</td>\n",
       "      <td>66.0</td>\n",
       "      <td>1.0</td>\n",
       "      <td>0.31</td>\n",
       "      <td>3.0</td>\n",
       "      <td>2016-11-29T04:08:03Z</td>\n",
       "      <td>Subject: Web Development</td>\n",
       "    </tr>\n",
       "  </tbody>\n",
       "</table>\n",
       "</div>"
      ],
      "text/plain": [
       "    course_id                                       course_title  \\\n",
       "36   695656.0  The Complete JavaScript Course For Web Develop...   \n",
       "37    19332.0        The Original Complete Web Developer Course.   \n",
       "38   511934.0                            AngularJS For Beginners   \n",
       "39   267560.0  Learn E-Commerce Website in PHP & MySQL From S...   \n",
       "40   866460.0    Angular 2+ with Typescript - Essential Training   \n",
       "\n",
       "                                                  url  price  num_subscribers  \\\n",
       "36            https://www.udemy.com/javascriptcourse/  195.0          31499.0   \n",
       "37     https://www.udemy.com/thecompletewebdeveloper/   20.0          31070.0   \n",
       "38  https://www.udemy.com/angularjs-for-beginners-...    0.0          30531.0   \n",
       "39  https://www.udemy.com/ecommerce-website-in-php...    0.0          29990.0   \n",
       "40          https://www.udemy.com/angular-2-training/  195.0          29348.0   \n",
       "\n",
       "    num_reviews  num_lectures  level  Rating  content_duration  \\\n",
       "36        450.0          46.0    1.0    0.76               4.0   \n",
       "37        742.0         195.0    1.0    0.07              18.0   \n",
       "38       1948.0          53.0    0.0    0.78               3.0   \n",
       "39       1342.0          87.0    1.0    0.95              17.5   \n",
       "40        780.0          66.0    1.0    0.31               3.0   \n",
       "\n",
       "     published_timestamp                   subject  \n",
       "36  2015-12-29T17:20:32Z  Subject: Web Development  \n",
       "37  2012-10-28T00:13:03Z  Subject: Web Development  \n",
       "38  2015-06-30T20:28:22Z  Subject: Web Development  \n",
       "39  2014-08-10T10:27:28Z  Subject: Web Development  \n",
       "40  2016-11-29T04:08:03Z  Subject: Web Development  "
      ]
     },
     "execution_count": 212,
     "metadata": {},
     "output_type": "execute_result"
    }
   ],
   "source": [
    "df_new_data.head()"
   ]
  },
  {
   "cell_type": "code",
   "execution_count": 213,
   "id": "c23c135c",
   "metadata": {},
   "outputs": [],
   "source": [
    "df_ml_data = df_new_data.loc[:,['price', 'num_subscribers','num_reviews', 'num_lectures', 'level', 'Rating', 'content_duration']]"
   ]
  },
  {
   "cell_type": "code",
   "execution_count": 215,
   "id": "c62f298b",
   "metadata": {},
   "outputs": [
    {
     "data": {
      "text/html": [
       "<div>\n",
       "<style scoped>\n",
       "    .dataframe tbody tr th:only-of-type {\n",
       "        vertical-align: middle;\n",
       "    }\n",
       "\n",
       "    .dataframe tbody tr th {\n",
       "        vertical-align: top;\n",
       "    }\n",
       "\n",
       "    .dataframe thead th {\n",
       "        text-align: right;\n",
       "    }\n",
       "</style>\n",
       "<table border=\"1\" class=\"dataframe\">\n",
       "  <thead>\n",
       "    <tr style=\"text-align: right;\">\n",
       "      <th></th>\n",
       "      <th>price</th>\n",
       "      <th>num_subscribers</th>\n",
       "      <th>num_reviews</th>\n",
       "      <th>num_lectures</th>\n",
       "      <th>level</th>\n",
       "      <th>Rating</th>\n",
       "      <th>content_duration</th>\n",
       "    </tr>\n",
       "  </thead>\n",
       "  <tbody>\n",
       "    <tr>\n",
       "      <th>36</th>\n",
       "      <td>195.0</td>\n",
       "      <td>31499.0</td>\n",
       "      <td>450.0</td>\n",
       "      <td>46.0</td>\n",
       "      <td>1.0</td>\n",
       "      <td>0.76</td>\n",
       "      <td>4.000000</td>\n",
       "    </tr>\n",
       "    <tr>\n",
       "      <th>37</th>\n",
       "      <td>20.0</td>\n",
       "      <td>31070.0</td>\n",
       "      <td>742.0</td>\n",
       "      <td>195.0</td>\n",
       "      <td>1.0</td>\n",
       "      <td>0.07</td>\n",
       "      <td>18.000000</td>\n",
       "    </tr>\n",
       "    <tr>\n",
       "      <th>38</th>\n",
       "      <td>0.0</td>\n",
       "      <td>30531.0</td>\n",
       "      <td>1948.0</td>\n",
       "      <td>53.0</td>\n",
       "      <td>0.0</td>\n",
       "      <td>0.78</td>\n",
       "      <td>3.000000</td>\n",
       "    </tr>\n",
       "    <tr>\n",
       "      <th>39</th>\n",
       "      <td>0.0</td>\n",
       "      <td>29990.0</td>\n",
       "      <td>1342.0</td>\n",
       "      <td>87.0</td>\n",
       "      <td>1.0</td>\n",
       "      <td>0.95</td>\n",
       "      <td>17.500000</td>\n",
       "    </tr>\n",
       "    <tr>\n",
       "      <th>40</th>\n",
       "      <td>195.0</td>\n",
       "      <td>29348.0</td>\n",
       "      <td>780.0</td>\n",
       "      <td>66.0</td>\n",
       "      <td>1.0</td>\n",
       "      <td>0.31</td>\n",
       "      <td>3.000000</td>\n",
       "    </tr>\n",
       "    <tr>\n",
       "      <th>...</th>\n",
       "      <td>...</td>\n",
       "      <td>...</td>\n",
       "      <td>...</td>\n",
       "      <td>...</td>\n",
       "      <td>...</td>\n",
       "      <td>...</td>\n",
       "      <td>...</td>\n",
       "    </tr>\n",
       "    <tr>\n",
       "      <th>3664</th>\n",
       "      <td>60.0</td>\n",
       "      <td>1.0</td>\n",
       "      <td>0.0</td>\n",
       "      <td>11.0</td>\n",
       "      <td>0.0</td>\n",
       "      <td>0.37</td>\n",
       "      <td>1.000000</td>\n",
       "    </tr>\n",
       "    <tr>\n",
       "      <th>3665</th>\n",
       "      <td>135.0</td>\n",
       "      <td>1.0</td>\n",
       "      <td>1.0</td>\n",
       "      <td>5.0</td>\n",
       "      <td>0.0</td>\n",
       "      <td>0.04</td>\n",
       "      <td>0.500000</td>\n",
       "    </tr>\n",
       "    <tr>\n",
       "      <th>3666</th>\n",
       "      <td>55.0</td>\n",
       "      <td>1.0</td>\n",
       "      <td>0.0</td>\n",
       "      <td>37.0</td>\n",
       "      <td>1.0</td>\n",
       "      <td>0.66</td>\n",
       "      <td>0.700000</td>\n",
       "    </tr>\n",
       "    <tr>\n",
       "      <th>3667</th>\n",
       "      <td>200.0</td>\n",
       "      <td>1.0</td>\n",
       "      <td>1.0</td>\n",
       "      <td>22.0</td>\n",
       "      <td>1.0</td>\n",
       "      <td>0.15</td>\n",
       "      <td>1.000000</td>\n",
       "    </tr>\n",
       "    <tr>\n",
       "      <th>3668</th>\n",
       "      <td>20.0</td>\n",
       "      <td>1.0</td>\n",
       "      <td>0.0</td>\n",
       "      <td>6.0</td>\n",
       "      <td>1.0</td>\n",
       "      <td>0.18</td>\n",
       "      <td>0.566667</td>\n",
       "    </tr>\n",
       "  </tbody>\n",
       "</table>\n",
       "<p>3556 rows × 7 columns</p>\n",
       "</div>"
      ],
      "text/plain": [
       "      price  num_subscribers  num_reviews  num_lectures  level  Rating  \\\n",
       "36    195.0          31499.0        450.0          46.0    1.0    0.76   \n",
       "37     20.0          31070.0        742.0         195.0    1.0    0.07   \n",
       "38      0.0          30531.0       1948.0          53.0    0.0    0.78   \n",
       "39      0.0          29990.0       1342.0          87.0    1.0    0.95   \n",
       "40    195.0          29348.0        780.0          66.0    1.0    0.31   \n",
       "...     ...              ...          ...           ...    ...     ...   \n",
       "3664   60.0              1.0          0.0          11.0    0.0    0.37   \n",
       "3665  135.0              1.0          1.0           5.0    0.0    0.04   \n",
       "3666   55.0              1.0          0.0          37.0    1.0    0.66   \n",
       "3667  200.0              1.0          1.0          22.0    1.0    0.15   \n",
       "3668   20.0              1.0          0.0           6.0    1.0    0.18   \n",
       "\n",
       "      content_duration  \n",
       "36            4.000000  \n",
       "37           18.000000  \n",
       "38            3.000000  \n",
       "39           17.500000  \n",
       "40            3.000000  \n",
       "...                ...  \n",
       "3664          1.000000  \n",
       "3665          0.500000  \n",
       "3666          0.700000  \n",
       "3667          1.000000  \n",
       "3668          0.566667  \n",
       "\n",
       "[3556 rows x 7 columns]"
      ]
     },
     "execution_count": 215,
     "metadata": {},
     "output_type": "execute_result"
    }
   ],
   "source": [
    "df_ml_data"
   ]
  },
  {
   "cell_type": "code",
   "execution_count": 216,
   "id": "690a31ac",
   "metadata": {},
   "outputs": [],
   "source": [
    "#Transformation\n",
    "df_ml_data['num_subscribers'] = np.sqrt(df_ml_data['num_subscribers'])"
   ]
  },
  {
   "cell_type": "code",
   "execution_count": 217,
   "id": "ae003fe6",
   "metadata": {},
   "outputs": [],
   "source": [
    "df_ml_data['num_lectures'] = np.sqrt(df_ml_data['num_lectures'])\n",
    "df_ml_data['num_reviews'] = np.sqrt(df_ml_data['num_reviews'])\n",
    "df_ml_data['price'] = np.sqrt(df_ml_data['price'])"
   ]
  },
  {
   "cell_type": "code",
   "execution_count": 218,
   "id": "18518a46",
   "metadata": {},
   "outputs": [
    {
     "data": {
      "text/html": [
       "<div>\n",
       "<style scoped>\n",
       "    .dataframe tbody tr th:only-of-type {\n",
       "        vertical-align: middle;\n",
       "    }\n",
       "\n",
       "    .dataframe tbody tr th {\n",
       "        vertical-align: top;\n",
       "    }\n",
       "\n",
       "    .dataframe thead th {\n",
       "        text-align: right;\n",
       "    }\n",
       "</style>\n",
       "<table border=\"1\" class=\"dataframe\">\n",
       "  <thead>\n",
       "    <tr style=\"text-align: right;\">\n",
       "      <th></th>\n",
       "      <th>price</th>\n",
       "      <th>num_subscribers</th>\n",
       "      <th>num_reviews</th>\n",
       "      <th>num_lectures</th>\n",
       "      <th>level</th>\n",
       "      <th>Rating</th>\n",
       "      <th>content_duration</th>\n",
       "    </tr>\n",
       "  </thead>\n",
       "  <tbody>\n",
       "    <tr>\n",
       "      <th>36</th>\n",
       "      <td>13.964240</td>\n",
       "      <td>177.479576</td>\n",
       "      <td>21.213203</td>\n",
       "      <td>6.782330</td>\n",
       "      <td>1.0</td>\n",
       "      <td>0.76</td>\n",
       "      <td>4.000000</td>\n",
       "    </tr>\n",
       "    <tr>\n",
       "      <th>37</th>\n",
       "      <td>4.472136</td>\n",
       "      <td>176.266843</td>\n",
       "      <td>27.239677</td>\n",
       "      <td>13.964240</td>\n",
       "      <td>1.0</td>\n",
       "      <td>0.07</td>\n",
       "      <td>18.000000</td>\n",
       "    </tr>\n",
       "    <tr>\n",
       "      <th>38</th>\n",
       "      <td>0.000000</td>\n",
       "      <td>174.731222</td>\n",
       "      <td>44.136153</td>\n",
       "      <td>7.280110</td>\n",
       "      <td>0.0</td>\n",
       "      <td>0.78</td>\n",
       "      <td>3.000000</td>\n",
       "    </tr>\n",
       "    <tr>\n",
       "      <th>39</th>\n",
       "      <td>0.000000</td>\n",
       "      <td>173.176211</td>\n",
       "      <td>36.633318</td>\n",
       "      <td>9.327379</td>\n",
       "      <td>1.0</td>\n",
       "      <td>0.95</td>\n",
       "      <td>17.500000</td>\n",
       "    </tr>\n",
       "    <tr>\n",
       "      <th>40</th>\n",
       "      <td>13.964240</td>\n",
       "      <td>171.312580</td>\n",
       "      <td>27.928480</td>\n",
       "      <td>8.124038</td>\n",
       "      <td>1.0</td>\n",
       "      <td>0.31</td>\n",
       "      <td>3.000000</td>\n",
       "    </tr>\n",
       "    <tr>\n",
       "      <th>...</th>\n",
       "      <td>...</td>\n",
       "      <td>...</td>\n",
       "      <td>...</td>\n",
       "      <td>...</td>\n",
       "      <td>...</td>\n",
       "      <td>...</td>\n",
       "      <td>...</td>\n",
       "    </tr>\n",
       "    <tr>\n",
       "      <th>3664</th>\n",
       "      <td>7.745967</td>\n",
       "      <td>1.000000</td>\n",
       "      <td>0.000000</td>\n",
       "      <td>3.316625</td>\n",
       "      <td>0.0</td>\n",
       "      <td>0.37</td>\n",
       "      <td>1.000000</td>\n",
       "    </tr>\n",
       "    <tr>\n",
       "      <th>3665</th>\n",
       "      <td>11.618950</td>\n",
       "      <td>1.000000</td>\n",
       "      <td>1.000000</td>\n",
       "      <td>2.236068</td>\n",
       "      <td>0.0</td>\n",
       "      <td>0.04</td>\n",
       "      <td>0.500000</td>\n",
       "    </tr>\n",
       "    <tr>\n",
       "      <th>3666</th>\n",
       "      <td>7.416198</td>\n",
       "      <td>1.000000</td>\n",
       "      <td>0.000000</td>\n",
       "      <td>6.082763</td>\n",
       "      <td>1.0</td>\n",
       "      <td>0.66</td>\n",
       "      <td>0.700000</td>\n",
       "    </tr>\n",
       "    <tr>\n",
       "      <th>3667</th>\n",
       "      <td>14.142136</td>\n",
       "      <td>1.000000</td>\n",
       "      <td>1.000000</td>\n",
       "      <td>4.690416</td>\n",
       "      <td>1.0</td>\n",
       "      <td>0.15</td>\n",
       "      <td>1.000000</td>\n",
       "    </tr>\n",
       "    <tr>\n",
       "      <th>3668</th>\n",
       "      <td>4.472136</td>\n",
       "      <td>1.000000</td>\n",
       "      <td>0.000000</td>\n",
       "      <td>2.449490</td>\n",
       "      <td>1.0</td>\n",
       "      <td>0.18</td>\n",
       "      <td>0.566667</td>\n",
       "    </tr>\n",
       "  </tbody>\n",
       "</table>\n",
       "<p>3556 rows × 7 columns</p>\n",
       "</div>"
      ],
      "text/plain": [
       "          price  num_subscribers  num_reviews  num_lectures  level  Rating  \\\n",
       "36    13.964240       177.479576    21.213203      6.782330    1.0    0.76   \n",
       "37     4.472136       176.266843    27.239677     13.964240    1.0    0.07   \n",
       "38     0.000000       174.731222    44.136153      7.280110    0.0    0.78   \n",
       "39     0.000000       173.176211    36.633318      9.327379    1.0    0.95   \n",
       "40    13.964240       171.312580    27.928480      8.124038    1.0    0.31   \n",
       "...         ...              ...          ...           ...    ...     ...   \n",
       "3664   7.745967         1.000000     0.000000      3.316625    0.0    0.37   \n",
       "3665  11.618950         1.000000     1.000000      2.236068    0.0    0.04   \n",
       "3666   7.416198         1.000000     0.000000      6.082763    1.0    0.66   \n",
       "3667  14.142136         1.000000     1.000000      4.690416    1.0    0.15   \n",
       "3668   4.472136         1.000000     0.000000      2.449490    1.0    0.18   \n",
       "\n",
       "      content_duration  \n",
       "36            4.000000  \n",
       "37           18.000000  \n",
       "38            3.000000  \n",
       "39           17.500000  \n",
       "40            3.000000  \n",
       "...                ...  \n",
       "3664          1.000000  \n",
       "3665          0.500000  \n",
       "3666          0.700000  \n",
       "3667          1.000000  \n",
       "3668          0.566667  \n",
       "\n",
       "[3556 rows x 7 columns]"
      ]
     },
     "execution_count": 218,
     "metadata": {},
     "output_type": "execute_result"
    }
   ],
   "source": [
    "df_ml_data"
   ]
  },
  {
   "cell_type": "code",
   "execution_count": null,
   "id": "3c21ea19",
   "metadata": {},
   "outputs": [],
   "source": []
  },
  {
   "cell_type": "code",
   "execution_count": 65,
   "id": "aa5cbeff",
   "metadata": {},
   "outputs": [],
   "source": []
  },
  {
   "cell_type": "code",
   "execution_count": 66,
   "id": "b987fe4b",
   "metadata": {},
   "outputs": [
    {
     "data": {
      "text/plain": [
       "0       False\n",
       "1       False\n",
       "2       False\n",
       "3       False\n",
       "4       False\n",
       "        ...  \n",
       "3675    False\n",
       "3676    False\n",
       "3677    False\n",
       "3678    False\n",
       "3679    False\n",
       "Length: 3676, dtype: bool"
      ]
     },
     "metadata": {},
     "output_type": "display_data"
    }
   ],
   "source": [
    "#Remove duplicates\n",
    "display(df_ml_data.duplicated())"
   ]
  },
  {
   "cell_type": "code",
   "execution_count": 219,
   "id": "44a7dcd2",
   "metadata": {},
   "outputs": [],
   "source": [
    "#split data into X, y\n",
    "X=df_ml_data[['price', 'num_subscribers','num_reviews', 'num_lectures', 'level', 'content_duration']]\n",
    "y=df_ml_data['Rating']"
   ]
  },
  {
   "cell_type": "code",
   "execution_count": 221,
   "id": "e64e460f",
   "metadata": {},
   "outputs": [
    {
     "name": "stdout",
     "output_type": "stream",
     "text": [
      "(3200, 6)\n",
      "(356, 6)\n",
      "(3200,)\n",
      "(356,)\n"
     ]
    }
   ],
   "source": [
    "from sklearn.model_selection import train_test_split\n",
    "X_train, X_test, y_train, y_test = train_test_split(X, y, test_size = 0.1, random_state = 5)\n",
    "print(X_train.shape)\n",
    "print(X_test.shape)\n",
    "print(y_train.shape)\n",
    "print(y_test.shape)"
   ]
  },
  {
   "cell_type": "markdown",
   "id": "9e495c5c",
   "metadata": {},
   "source": [
    "# Standarisation"
   ]
  },
  {
   "cell_type": "code",
   "execution_count": 222,
   "id": "4c330c2e",
   "metadata": {},
   "outputs": [
    {
     "data": {
      "text/plain": [
       "array([[ 0.14844507, -0.80986953, -0.55451104,  0.83311714,  1.3209911 ,\n",
       "         0.24623542],\n",
       "       [-0.03013564, -1.06235617, -0.94706219, -0.57456408,  0.28109651,\n",
       "        -0.17276092],\n",
       "       [-0.03013564, -0.5543293 , -0.10775252,  0.48720643,  0.28109651,\n",
       "         0.49763322],\n",
       "       ...,\n",
       "       [ 0.99742176, -0.39272274,  0.04823664,  1.24578392,  0.28109651,\n",
       "         0.41383395],\n",
       "       [-0.33574969, -1.06235617, -0.94706219, -1.11980872, -0.75879809,\n",
       "        -0.50795798],\n",
       "       [-1.90116599,  1.09754467,  2.05720924,  0.71446876, -0.75879809,\n",
       "        -0.17276092]])"
      ]
     },
     "execution_count": 222,
     "metadata": {},
     "output_type": "execute_result"
    }
   ],
   "source": [
    "from sklearn.preprocessing import StandardScaler\n",
    "SS = StandardScaler()\n",
    "X_train_sc = SS.fit_transform(X_train)\n",
    "\n",
    "X_train_sc"
   ]
  },
  {
   "cell_type": "code",
   "execution_count": 223,
   "id": "2632ae73",
   "metadata": {},
   "outputs": [
    {
     "data": {
      "text/plain": [
       "array([[-0.71782249,  0.48920419,  0.22120743, -1.11980872,  2.3608857 ,\n",
       "        -0.56103085],\n",
       "       [-0.71782249, -0.72656651, -0.73723477, -0.81778157, -0.75879809,\n",
       "        -0.25656018],\n",
       "       [ 0.74487051, -0.5856947 , -0.37242614,  1.12119117, -0.75879809,\n",
       "         0.33003468],\n",
       "       ...,\n",
       "       [-0.71782249, -0.12011733, -0.45497328, -0.66687629,  0.28109651,\n",
       "        -0.25656018],\n",
       "       [ 0.67787137, -0.29451188, -0.16195988,  0.37951375, -0.75879809,\n",
       "        -0.34035945],\n",
       "       [ 1.84089471,  0.41560361, -0.26714365,  1.12119117,  0.28109651,\n",
       "         0.33003468]])"
      ]
     },
     "execution_count": 223,
     "metadata": {},
     "output_type": "execute_result"
    }
   ],
   "source": [
    "X_test_sc = SS.transform(X_test)\n",
    "\n",
    "X_test_sc"
   ]
  },
  {
   "cell_type": "code",
   "execution_count": 224,
   "id": "c0a12192",
   "metadata": {},
   "outputs": [
    {
     "data": {
      "image/png": "[encoded data removed]",
      "text/plain": [
       "<Figure size 640x480 with 2 Axes>"
      ]
     },
     "metadata": {},
     "output_type": "display_data"
    }
   ],
   "source": [
    "corr_matrix = X_train.corr(method='pearson') \n",
    "\n",
    "sns.heatmap(corr_matrix, annot=True, cmap='RdBu_r')\n",
    "plt.show()"
   ]
  },
  {
   "cell_type": "code",
   "execution_count": 225,
   "id": "b7eaf5e3",
   "metadata": {},
   "outputs": [],
   "source": [
    "#import regression algorithm.\n",
    "from sklearn.tree import DecisionTreeRegressor\n",
    "from sklearn.linear_model import LinearRegression\n",
    "from sklearn.model_selection import GridSearchCV\n",
    "from sklearn.ensemble import RandomForestRegressor\n",
    "from sklearn.ensemble import GradientBoostingRegressor"
   ]
  },
  {
   "cell_type": "code",
   "execution_count": 226,
   "id": "c496c2d7",
   "metadata": {},
   "outputs": [
    {
     "name": "stdout",
     "output_type": "stream",
     "text": [
      "0.611615625\n",
      "[ 0.01254232  0.00747288 -0.01788273 -0.04304677 -0.0065731   0.03406274]\n",
      "0.009937517772716786\n",
      "0.0012385742721365833\n"
     ]
    }
   ],
   "source": [
    "lr = LinearRegression()\n",
    "lr.fit(X_train_sc, y_train)\n",
    "print(lr.intercept_)\n",
    "print(lr.coef_)\n",
    "print(lr.score(X_train_sc, y_train))\n",
    "print(lr.score(X_test_sc, y_test))"
   ]
  },
  {
   "cell_type": "code",
   "execution_count": 227,
   "id": "2baa4288",
   "metadata": {},
   "outputs": [
    {
     "name": "stdout",
     "output_type": "stream",
     "text": [
      "0.4379128242690819\n",
      "0.34593262699362765\n",
      "0.1917676416593238\n"
     ]
    }
   ],
   "source": [
    "from sklearn import metrics\n",
    "y_pred=lr.predict(X_test)\n",
    "print(np.sqrt(metrics.mean_squared_error(y_test, y_pred)))\n",
    "print(metrics.mean_absolute_error(y_test, y_pred))\n",
    "print(metrics.mean_squared_error(y_test, y_pred))"
   ]
  },
  {
   "cell_type": "code",
   "execution_count": 230,
   "id": "19786e86",
   "metadata": {},
   "outputs": [
    {
     "name": "stdout",
     "output_type": "stream",
     "text": [
      "0.6161607796598623\n",
      "[ 0.         -0.00012394 -0.         -0.         -0.          0.        ]\n",
      "0.00036241875350429\n",
      "-0.0005925979133403203\n"
     ]
    }
   ],
   "source": [
    "from sklearn import linear_model\n",
    "from sklearn.model_selection import cross_val_score,KFold\n",
    "\n",
    "lr_lasso = linear_model.Lasso(alpha=0.1)\n",
    "lr_lasso.fit(X_train, y_train)\n",
    "print(lr_lasso.intercept_)\n",
    "print(lr_lasso.coef_)\n",
    "print(lr_lasso.score(X_train, y_train))\n",
    "print(lr_lasso.score(X_test, y_test))"
   ]
  },
  {
   "cell_type": "code",
   "execution_count": 231,
   "id": "f97c3f79",
   "metadata": {},
   "outputs": [
    {
     "name": "stdout",
     "output_type": "stream",
     "text": [
      "0.6684128933922269\n",
      "[ 0.00331871  0.00023198 -0.00265327 -0.01588701 -0.0068351   0.0057088 ]\n",
      "0.009937517771328452\n",
      "0.0012386765348048057\n"
     ]
    }
   ],
   "source": [
    "lr_Ridge = linear_model.Ridge(alpha=0.1)\n",
    "lr_Ridge.fit(X_train, y_train)\n",
    "print(lr_Ridge.intercept_)\n",
    "print(lr_Ridge.coef_)\n",
    "print(lr_Ridge.score(X_train, y_train))\n",
    "print(lr_Ridge.score(X_test, y_test))"
   ]
  },
  {
   "cell_type": "code",
   "execution_count": 232,
   "id": "bb1e77f4",
   "metadata": {},
   "outputs": [
    {
     "name": "stdout",
     "output_type": "stream",
     "text": [
      "-0.6344930645789557\n"
     ]
    }
   ],
   "source": [
    "#R2 Score\n",
    "print(metrics.r2_score(y_test,y_pred))"
   ]
  },
  {
   "cell_type": "code",
   "execution_count": 233,
   "id": "3d1fd532",
   "metadata": {},
   "outputs": [
    {
     "data": {
      "text/plain": [
       "0.34593262699362765"
      ]
     },
     "execution_count": 233,
     "metadata": {},
     "output_type": "execute_result"
    }
   ],
   "source": [
    "#check MAE\n",
    "metrics.mean_absolute_error(y_test, y_pred)"
   ]
  },
  {
   "cell_type": "code",
   "execution_count": 234,
   "id": "ededa857",
   "metadata": {},
   "outputs": [
    {
     "data": {
      "text/plain": [
       "array([0.80837336, 0.67759394, 0.62993344, 1.34871598, 0.64586203,\n",
       "       0.55654571, 0.83165957, 0.80051127, 0.60793922, 0.73380574,\n",
       "       1.0466868 , 0.74024449, 0.8532054 , 0.42787555, 0.6013311 ,\n",
       "       0.79076926, 0.56563869, 0.56539883, 0.55670053, 0.52988691,\n",
       "       0.70768165, 0.76939191, 0.59048357, 0.8725621 , 0.87211583,\n",
       "       0.53004622, 0.6102812 , 0.73760051, 1.20735088, 1.46334023,\n",
       "       0.8127033 , 0.95418129, 0.72178063, 0.87177336, 0.87452126,\n",
       "       0.62880003, 1.07719593, 0.85390663, 0.6645432 , 1.02814163,\n",
       "       0.91475232, 0.62108725, 0.61913988, 0.80068608, 0.63084058,\n",
       "       0.82078222, 1.2136664 , 0.98403986, 1.57141297, 0.80058306,\n",
       "       0.71447119, 0.66608774, 2.2755334 , 0.71807752, 0.75259875,\n",
       "       0.56627945, 1.36332677, 0.55592531, 0.53946322, 0.898677  ,\n",
       "       0.51098851, 0.80744946, 0.64510762, 0.59106138, 0.69048919,\n",
       "       0.73589997, 0.55858175, 1.1813732 , 0.54667462, 0.78845603,\n",
       "       0.60067758, 0.66715774, 0.77609957, 1.21723193, 0.69655501,\n",
       "       1.05681295, 0.61022094, 0.55552862, 0.61598293, 1.13918898,\n",
       "       0.58496011, 0.6418406 , 0.89511492, 0.94316366, 0.55988173,\n",
       "       0.49748416, 0.86381602, 0.70065747, 0.7216303 , 0.63214672,\n",
       "       0.46654656, 0.56822827, 0.71988605, 0.74558288, 0.86144146,\n",
       "       0.73548317, 0.85817603, 0.75234723, 0.66150576, 0.87535374,\n",
       "       0.61344227, 0.49281536, 1.72112882, 1.50981128, 0.68280688,\n",
       "       0.60389245, 0.608794  , 0.61143841, 0.84050804, 0.67161717,\n",
       "       0.69888953, 0.79822279, 1.21551691, 0.80723614, 0.93046231,\n",
       "       0.52162882, 0.64395631, 0.65524629, 0.62493006, 0.81440794,\n",
       "       0.61732167, 1.44710285, 0.85383067, 0.97598655, 0.8926766 ,\n",
       "       0.9401378 , 0.96363469, 0.91295623, 0.66454542, 1.07900795,\n",
       "       0.67468699, 0.80293059, 0.88086471, 0.48518337, 0.79258011,\n",
       "       1.10051349, 0.59440806, 1.04966282, 0.78880321, 0.73255101,\n",
       "       0.68131334, 0.83621989, 0.89239419, 0.43481208, 0.50076624,\n",
       "       0.51465714, 0.82796713, 0.68838094, 0.59495004, 0.64420056,\n",
       "       0.60697259, 0.57175785, 0.35373072, 0.6229183 , 0.64834947,\n",
       "       0.65088039, 0.71659491, 0.76631854, 0.71744892, 0.569294  ,\n",
       "       0.81566415, 0.63174832, 0.80896059, 0.59642648, 0.68696459,\n",
       "       0.81847077, 0.6377152 , 0.90198904, 0.53328324, 1.30880958,\n",
       "       1.3914622 , 0.65059865, 0.58049616, 0.68640053, 0.58246594,\n",
       "       0.68474083, 0.75305849, 0.56222263, 0.58771311, 0.75037587,\n",
       "       0.60817104, 0.70155668, 0.70292936, 0.68566227, 0.65259884,\n",
       "       0.45250241, 0.51148964, 0.71618232, 0.87114619, 0.74462519,\n",
       "       0.63196479, 1.64955336, 0.50885423, 0.6858183 , 0.58115128,\n",
       "       0.76112288, 0.77588631, 0.85730641, 0.99367708, 0.58655708,\n",
       "       0.61151791, 0.60492743, 0.40709869, 0.62554668, 0.84199916,\n",
       "       0.77649868, 0.89400204, 0.70016394, 0.85428605, 0.52837031,\n",
       "       0.68951202, 0.80832527, 1.02835345, 0.6969803 , 0.72800104,\n",
       "       0.90844113, 0.51770952, 1.0158109 , 0.41043452, 0.53329477,\n",
       "       0.63632029, 0.92855385, 0.73747355, 0.58979867, 0.6713806 ,\n",
       "       0.83795507, 0.62389502, 0.66931962, 1.16059944, 0.54251076,\n",
       "       0.60059454, 0.69197788, 0.57491591, 0.56872646, 0.64567832,\n",
       "       0.55112108, 1.06592427, 0.65509545, 0.56111814, 0.52049489,\n",
       "       0.7989282 , 0.6916313 , 0.5274284 , 0.59109758, 0.51503255,\n",
       "       0.75791074, 1.25138384, 0.65619654, 0.83148184, 0.81195793,\n",
       "       0.83629516, 0.93897528, 0.47982619, 0.59094077, 0.53177132,\n",
       "       0.56476559, 1.14795629, 0.85219342, 0.70299029, 0.4837544 ,\n",
       "       0.66645393, 0.55315617, 0.67362749, 0.87535189, 1.07077496,\n",
       "       0.6862679 , 0.60677709, 0.67241298, 0.59951739, 0.56563529,\n",
       "       0.8870835 , 0.61957007, 0.96259438, 0.64604396, 1.07790626,\n",
       "       0.87685769, 1.11069279, 0.50616602, 0.58248798, 0.50458234,\n",
       "       0.58901597, 0.57588275, 0.81122768, 0.59936415, 0.6084903 ,\n",
       "       0.90250809, 0.68783626, 0.88312168, 0.65034211, 0.77464427,\n",
       "       0.6968543 , 0.9575357 , 0.63977582, 0.67385409, 0.56411049,\n",
       "       0.70041314, 0.68742742, 0.72733778, 0.53453591, 0.48635735,\n",
       "       0.64541115, 0.83792367, 0.6421569 , 0.70513829, 0.73308256,\n",
       "       0.6366043 , 0.55441342, 0.99945053, 0.63996416, 0.67493646,\n",
       "       0.62522531, 1.18751568, 0.50734695, 0.58417387, 0.81887671,\n",
       "       1.01563392, 1.00728964, 0.52600387, 0.78380884, 0.86836673,\n",
       "       0.98071307, 0.56850514, 0.80280037, 0.67884029, 0.51237365,\n",
       "       0.63984051, 0.56139883, 0.86006005, 0.66428761, 0.74415518,\n",
       "       0.55242475, 0.80598739, 0.60835351, 0.77295754, 0.43946748,\n",
       "       0.59338971, 0.59198092, 0.94966346, 0.79623111, 0.85814047,\n",
       "       0.81081507, 0.70525364, 0.77905321, 0.6714217 , 1.18405338,\n",
       "       0.80681197, 0.64688574, 0.63197796, 0.71440427, 0.64651239,\n",
       "       0.53908635, 0.57778466, 0.64249054, 0.76538916, 0.62174227,\n",
       "       0.90366401])"
      ]
     },
     "execution_count": 234,
     "metadata": {},
     "output_type": "execute_result"
    }
   ],
   "source": [
    "y_pred"
   ]
  },
  {
   "cell_type": "code",
   "execution_count": 235,
   "id": "863542a7",
   "metadata": {},
   "outputs": [
    {
     "data": {
      "text/plain": [
       "562     0.66\n",
       "1952    0.91\n",
       "2718    0.76\n",
       "2406    0.81\n",
       "656     0.99\n",
       "Name: Rating, dtype: float64"
      ]
     },
     "execution_count": 235,
     "metadata": {},
     "output_type": "execute_result"
    }
   ],
   "source": [
    "y_test.head()"
   ]
  },
  {
   "cell_type": "code",
   "execution_count": 236,
   "id": "d74ff113",
   "metadata": {},
   "outputs": [],
   "source": [
    "from sklearn.ensemble import AdaBoostRegressor"
   ]
  },
  {
   "cell_type": "code",
   "execution_count": 237,
   "id": "99c19cd7",
   "metadata": {},
   "outputs": [
    {
     "name": "stdout",
     "output_type": "stream",
     "text": [
      "AdaBoostRegressor(base_estimator=DecisionTreeRegressor(), n_estimators=100,\n",
      "                  random_state=30)\n"
     ]
    }
   ],
   "source": [
    "model_ABR = AdaBoostRegressor(base_estimator=DecisionTreeRegressor(), learning_rate=1.0, loss=\"linear\",n_estimators=100, random_state=30)\n",
    "\n",
    "model_ABR.fit(X_train_sc, y_train)\n",
    "print(model_ABR)"
   ]
  },
  {
   "cell_type": "code",
   "execution_count": 238,
   "id": "d253f3f8",
   "metadata": {},
   "outputs": [],
   "source": [
    "expected_y  = y_test\n",
    "predicted_y = model_ABR.predict(X_test_sc)"
   ]
  },
  {
   "cell_type": "code",
   "execution_count": 239,
   "id": "5b79c636",
   "metadata": {},
   "outputs": [
    {
     "name": "stdout",
     "output_type": "stream",
     "text": [
      "-0.04712865628072671\n",
      "0.055595669518743035\n"
     ]
    },
    {
     "data": {
      "text/plain": [
       "<Figure size 1000x1000 with 0 Axes>"
      ]
     },
     "execution_count": 239,
     "metadata": {},
     "output_type": "execute_result"
    },
    {
     "data": {
      "text/plain": [
       "<Figure size 1000x1000 with 0 Axes>"
      ]
     },
     "metadata": {},
     "output_type": "display_data"
    }
   ],
   "source": [
    "print(metrics.r2_score(expected_y, predicted_y))\n",
    "print(metrics.mean_squared_log_error(expected_y, predicted_y))\n",
    "    \n",
    "plt.figure(figsize=(10,10))\n",
    "#sns.regplot(expected_y, predicted_y, fit_reg=True, scatter_kws={\"s\": 100})"
   ]
  },
  {
   "cell_type": "code",
   "execution_count": 240,
   "id": "8f46f207",
   "metadata": {},
   "outputs": [
    {
     "name": "stdout",
     "output_type": "stream",
     "text": [
      "1 -0.11067518411435588\n",
      "2 -0.10888356167558026\n",
      "3 -0.10576374447980712\n",
      "4 -0.10438623443769954\n",
      "5 -0.10514532370087729\n",
      "6 -0.10601882896961996\n",
      "7 -0.10817296409939088\n",
      "8 -0.11521360599002421\n",
      "9 -0.119772464082927\n"
     ]
    }
   ],
   "source": [
    "from sklearn.model_selection import cross_val_score\n",
    "from sklearn.model_selection import train_test_split\n",
    "from sklearn.model_selection import KFold\n",
    "from sklearn.metrics import mean_squared_error\n",
    "from sklearn import tree\n",
    "\n",
    "crossvalidation=KFold(n_splits=10,shuffle=True,random_state=1)\n",
    "for depth in range (1,10):\n",
    "    tree_regressor=tree.DecisionTreeRegressor(max_depth=depth,random_state=1)\n",
    "    if tree_regressor.fit(X,y).tree_.max_depth<depth:\n",
    "            break\n",
    "    score=np.mean(cross_val_score(tree_regressor,X_train_sc,y_train,scoring='neg_mean_squared_error', cv=crossvalidation,n_jobs=1))\n",
    "    print(depth, score)"
   ]
  },
  {
   "cell_type": "code",
   "execution_count": 1,
   "id": "7b8321bc",
   "metadata": {},
   "outputs": [
    {
     "name": "stdout",
     "output_type": "stream",
     "text": [
      "XGBRegressor(base_score=None, booster=None, callbacks=None,\n",
      "             colsample_bylevel=None, colsample_bynode=None,\n",
      "             colsample_bytree=None, device=None, early_stopping_rounds=None,\n",
      "             enable_categorical=False, eval_metric=None, feature_types=None,\n",
      "             gamma=None, grow_policy=None, importance_type=None,\n",
      "             interaction_constraints=None, learning_rate=None, max_bin=None,\n",
      "             max_cat_threshold=None, max_cat_to_onehot=None,\n",
      "             max_delta_step=None, max_depth=None, max_leaves=None,\n",
      "             min_child_weight=None, missing=nan, monotone_constraints=None,\n",
      "             multi_strategy=None, n_estimators=None, n_jobs=None,\n",
      "             num_parallel_tree=None, random_state=None, ...)\n"
     ]
    },
    {
     "ename": "NameError",
     "evalue": "name 'X_train_sc' is not defined",
     "output_type": "error",
     "traceback": [
      "\u001b[1;31m---------------------------------------------------------------------------\u001b[0m",
      "\u001b[1;31mNameError\u001b[0m                                 Traceback (most recent call last)",
      "Cell \u001b[1;32mIn[1], line 5\u001b[0m\n\u001b[0;32m      3\u001b[0m xgbr \u001b[38;5;241m=\u001b[39m xgb\u001b[38;5;241m.\u001b[39mXGBRegressor(verbosity\u001b[38;5;241m=\u001b[39m\u001b[38;5;241m0\u001b[39m) \n\u001b[0;32m      4\u001b[0m \u001b[38;5;28mprint\u001b[39m(xgbr)\n\u001b[1;32m----> 5\u001b[0m xgbr\u001b[38;5;241m.\u001b[39mfit(\u001b[43mX_train_sc\u001b[49m, y_train)\n\u001b[0;32m      7\u001b[0m score \u001b[38;5;241m=\u001b[39m xgbr\u001b[38;5;241m.\u001b[39mscore(X_train_sc, y_train)  \n\u001b[0;32m     10\u001b[0m \u001b[38;5;28mprint\u001b[39m(\u001b[38;5;124m\"\u001b[39m\u001b[38;5;124mTraining score: \u001b[39m\u001b[38;5;124m\"\u001b[39m, score)\n",
      "\u001b[1;31mNameError\u001b[0m: name 'X_train_sc' is not defined"
     ]
    }
   ],
   "source": [
    "import xgboost as xgb\n",
    "from sklearn.model_selection import GridSearchCV\n",
    "xgbr = xgb.XGBRegressor(verbosity=0) \n",
    "print(xgbr)\n",
    "xgbr.fit(X_train_sc, y_train)\n",
    "\n",
    "score = xgbr.score(X_train_sc, y_train)  \n",
    "\n",
    "\n",
    "print(\"Training score: \", score)"
   ]
  },
  {
   "cell_type": "code",
   "execution_count": null,
   "id": "2f869db0",
   "metadata": {},
   "outputs": [],
   "source": [
    "scores = cross_val_score(xgbr, X_train_sc, y_train,cv=5,scoring='neg_mean_squared_error')\n",
    "print(\"Mean cross-validation score: %.2f\" % scores.mean())\n"
   ]
  },
  {
   "cell_type": "code",
   "execution_count": 150,
   "id": "5b62276f",
   "metadata": {},
   "outputs": [
    {
     "name": "stdout",
     "output_type": "stream",
     "text": [
      "K-fold CV average score: -0.06\n"
     ]
    }
   ],
   "source": [
    "kfold = KFold(n_splits=3, shuffle=True)\n",
    "kf_cv_scores = cross_val_score(xgbr, X_train, y_train, cv=kfold )\n",
    "print(\"K-fold CV average score: %.2f\" % kf_cv_scores.mean())\n"
   ]
  },
  {
   "cell_type": "code",
   "execution_count": 151,
   "id": "32b2dd72",
   "metadata": {},
   "outputs": [],
   "source": [
    "y_pred = xgbr.predict(X_test)"
   ]
  },
  {
   "cell_type": "code",
   "execution_count": 176,
   "id": "8238624c",
   "metadata": {},
   "outputs": [
    {
     "data": {
      "text/plain": [
       "array([0.7227887 , 0.86966616, 0.99669224, 0.5354133 , 0.63178474,\n",
       "       0.5299586 , 0.2862315 , 0.60820657, 0.5603386 , 0.85377467,\n",
       "       0.34336266, 0.77264524, 0.94171476, 0.6787349 , 0.7166831 ,\n",
       "       0.30445418, 0.3361781 , 0.5991768 , 0.73694783, 0.9223221 ,\n",
       "       1.0251085 , 0.79708654, 0.9219547 , 0.624549  , 0.60332304,\n",
       "       0.42316362, 0.5330273 , 0.5702934 , 0.30844128, 0.48258907,\n",
       "       0.3614899 , 0.9978961 , 0.36640885, 0.6388878 , 0.80494326,\n",
       "       0.24538156, 0.9505482 , 0.8370039 , 0.6391119 , 0.37061518,\n",
       "       0.72359866, 0.29357287, 0.85768974, 0.47656417, 0.4427044 ,\n",
       "       0.6589386 , 0.8111428 , 0.73328805, 0.45772827, 0.6154981 ,\n",
       "       0.8164623 , 0.944363  , 0.8139339 , 0.81670153, 0.12250776,\n",
       "       0.48745233, 0.6176825 , 0.5106617 , 0.80442774, 0.7994078 ,\n",
       "       0.49254677, 0.8147047 , 0.92340684, 0.9404062 , 0.51900035,\n",
       "       0.6380334 , 0.7364534 , 0.61185026, 0.67237717, 0.8298919 ,\n",
       "       0.40106398, 0.695218  , 0.6262633 , 0.57240534, 0.9151907 ,\n",
       "       0.6970644 , 0.69104445, 0.64820683, 0.58242583, 0.5498125 ,\n",
       "       0.6178287 , 0.5667556 , 0.5256726 , 0.60606253, 0.42205775,\n",
       "       0.9294761 , 0.57084584, 0.7107563 , 0.7921305 , 0.47393143,\n",
       "       0.7701262 , 0.56652325, 0.73945594, 0.6223818 , 0.2706821 ,\n",
       "       0.73608285, 0.63620526, 0.7257364 , 0.8549295 , 0.75999457,\n",
       "       0.5754732 , 0.45314413, 0.17255859, 0.9111228 , 0.9226785 ,\n",
       "       0.6487204 , 0.5921707 , 0.77096033, 0.89177763, 0.0777824 ,\n",
       "       0.6107219 , 0.3566956 , 0.6764066 , 0.6483896 , 0.7638367 ,\n",
       "       0.9203074 , 0.5748131 , 0.23107459, 0.5732883 , 0.8452363 ,\n",
       "       0.73090595, 0.46530962, 0.420381  , 0.8927476 , 0.62500024,\n",
       "       0.47131371, 0.8728905 , 0.68446106, 0.24172616, 0.3858219 ,\n",
       "       0.7203255 , 1.0006001 , 0.49107757, 0.739331  , 0.77026874,\n",
       "       1.0247833 , 0.11867989, 0.7639875 , 0.5558283 , 0.5347665 ,\n",
       "       0.8467915 , 0.66728556, 0.4647296 , 0.8265001 , 0.8356566 ,\n",
       "       0.3278497 , 0.7459896 , 0.28264183, 0.48143312, 0.5649056 ,\n",
       "       0.772665  , 0.9405153 , 0.6992248 , 0.5757557 , 0.441056  ,\n",
       "       0.41456166, 0.2887025 , 1.0609039 , 0.88435346, 0.4327389 ,\n",
       "       0.5710024 , 0.38510513, 0.3048611 , 0.77213526, 0.7206346 ,\n",
       "       0.47139597, 0.64474994, 0.22253571, 0.63678706, 0.7751012 ,\n",
       "       0.3058928 , 0.49922675, 0.7447239 , 0.8379177 , 0.6520386 ,\n",
       "       0.7358427 , 0.5953147 , 0.8074559 , 0.7206701 , 0.69446063,\n",
       "       0.754099  , 0.30272213, 0.48089617, 0.49778506, 0.9091788 ,\n",
       "       0.79285806, 0.7392861 , 1.039798  , 0.4884067 , 0.55292946,\n",
       "       0.80597806, 0.75066876, 0.6539673 , 0.46628362, 0.3525319 ,\n",
       "       0.7036522 , 0.47902393, 0.69905335, 0.8288282 , 0.47957423,\n",
       "       0.52407527, 0.56489486, 0.61640364, 0.47261015, 0.69754833,\n",
       "       0.8700875 , 0.6760753 , 0.36421826, 0.8123623 , 0.5828211 ,\n",
       "       0.5778839 , 0.6232622 , 0.31497765, 0.5685237 , 0.9699369 ,\n",
       "       0.78431433, 0.60761666, 0.8089107 , 0.25997117, 0.5922044 ,\n",
       "       0.45210055, 0.50159883, 0.22257234, 0.81680095, 0.75435835,\n",
       "       0.6908049 , 0.5727899 , 0.7592841 , 0.36825058, 0.44857252,\n",
       "       0.58203965, 0.9438236 , 0.6592823 , 0.5681408 , 0.57490665,\n",
       "       0.6382777 , 0.2958588 , 0.48372868, 0.59381247, 0.35950732,\n",
       "       0.5002063 , 0.5795381 , 0.14844652, 0.85917175, 0.63900137,\n",
       "       0.7960448 , 0.52484685, 0.37352604, 0.741273  , 0.7669496 ,\n",
       "       0.45743433, 0.85004956, 0.76725054, 0.8388449 , 0.7244135 ,\n",
       "       0.49308965, 0.9076802 , 0.65013045, 0.61063045, 0.48260424,\n",
       "       0.47314885, 0.656871  , 0.20487125, 0.10003052, 0.5424138 ,\n",
       "       0.77962667, 0.655852  , 0.6376677 , 0.5980194 , 0.6209441 ,\n",
       "       0.67405003, 0.63401836, 0.5492011 , 0.62530327, 0.5684054 ,\n",
       "       0.4547203 , 0.40611193, 0.61822546, 0.64571756, 0.9140147 ,\n",
       "       0.44160265, 0.94933134, 0.8939492 , 0.71067834, 0.59304017,\n",
       "       0.5418339 , 0.661536  , 0.7178312 , 0.830226  , 0.8689811 ,\n",
       "       0.9364718 , 0.58097404, 0.63985294, 0.7868122 , 0.55331475,\n",
       "       0.9488164 , 0.4335827 , 0.77587456, 0.83446115, 0.70808214,\n",
       "       0.5055034 , 0.3800124 , 0.85444885, 0.8623839 , 0.45476758,\n",
       "       0.70062727, 0.56303114, 0.53152835, 0.47137552, 0.7682235 ,\n",
       "       0.42132732, 0.7458195 , 0.71324563, 0.5608063 , 0.34762442,\n",
       "       1.0317264 , 0.41099846, 0.7832186 , 0.5488215 , 0.6131327 ,\n",
       "       0.6115069 , 0.5457552 , 0.78460824, 0.8512708 , 0.7984927 ,\n",
       "       0.66657734, 0.52337956, 0.6731616 , 0.4364798 , 0.64755875,\n",
       "       0.646733  , 0.1649671 , 0.50161433, 0.33237764, 0.9167726 ,\n",
       "       0.5760587 , 0.5036401 , 0.69590175, 0.27914986, 0.8203201 ,\n",
       "       0.5702502 , 0.6717636 , 0.6102209 , 0.1469603 , 0.19789164,\n",
       "       0.70507723, 0.5786632 , 0.446715  , 0.880704  , 0.8559127 ,\n",
       "       0.8383996 , 0.5831929 , 0.72234845, 0.6967595 , 0.7986016 ,\n",
       "       0.40090007, 0.7638939 , 0.6444167 , 0.48452193, 0.6275471 ,\n",
       "       0.7816272 , 0.6106695 ], dtype=float32)"
      ]
     },
     "execution_count": 176,
     "metadata": {},
     "output_type": "execute_result"
    }
   ],
   "source": [
    "y_pred"
   ]
  },
  {
   "cell_type": "code",
   "execution_count": null,
   "id": "6013a5eb",
   "metadata": {},
   "outputs": [],
   "source": []
  },
  {
   "cell_type": "code",
   "execution_count": 244,
   "id": "a5fdedf7",
   "metadata": {},
   "outputs": [
    {
     "data": {
      "image/png": "[encoded data removed]",
      "text/plain": [
       "<Figure size 640x480 with 1 Axes>"
      ]
     },
     "metadata": {},
     "output_type": "display_data"
    }
   ],
   "source": [
    "\n",
    "import seaborn as sns\n",
    "%matplotlib inline \n",
    "\n",
    "ax1 = sns.distplot(y_test, hist=False, color=\"r\", label=\"Actual Value\")\n",
    "sns.distplot(y_pred, hist=False, color=\"b\", label=\"Predicted Values\" , ax=ax1)\n",
    "\n",
    "\n",
    "plt.title('Actual vs Predicted Values for Rating')\n",
    "plt.xlabel('Actual')\n",
    "plt.ylabel('Predicted')\n",
    "plt.legend()\n",
    "plt.show()\n",
    "plt.close()"
   ]
  },
  {
   "cell_type": "code",
   "execution_count": 245,
   "id": "dadbca3f",
   "metadata": {},
   "outputs": [
    {
     "data": {
      "image/png": "[encoded data removed]",
      "text/plain": [
       "<Figure size 640x480 with 1 Axes>"
      ]
     },
     "metadata": {},
     "output_type": "display_data"
    }
   ],
   "source": [
    "plt.figure()\n",
    "plt.scatter(X_test['num_reviews'], y_pred, label='predicted')\n",
    "plt.scatter(X_test['num_reviews'], y_test, label='actual')\n",
    "plt.ylabel('output y')\n",
    "plt.legend()\n",
    "plt.show()"
   ]
  },
  {
   "cell_type": "code",
   "execution_count": null,
   "id": "92bb10dc",
   "metadata": {},
   "outputs": [],
   "source": []
  },
  {
   "cell_type": "code",
   "execution_count": null,
   "id": "f8d7791e",
   "metadata": {},
   "outputs": [],
   "source": []
  }
 ],
 "metadata": {
  "kernelspec": {
   "display_name": "Python 3 (ipykernel)",
   "language": "python",
   "name": "python3"
  },
  "language_info": {
   "codemirror_mode": {
    "name": "ipython",
    "version": 3
   },
   "file_extension": ".py",
   "mimetype": "text/x-python",
   "name": "python",
   "nbconvert_exporter": "python",
   "pygments_lexer": "ipython3",
   "version": "3.10.11"
  }
 },
 "nbformat": 4,
 "nbformat_minor": 5
}
